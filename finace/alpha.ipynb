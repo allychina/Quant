{
 "cells": [
  {
   "cell_type": "code",
   "execution_count": 10,
   "metadata": {
    "collapsed": true
   },
   "outputs": [],
   "source": [
    "import pandas as pd\n",
    "import matplotlib.pyplot as plt\n",
    "import datetime as dt\n",
    "from matplotlib import style\n",
    "import numpy as np\n",
    "import os\n",
    "from sklearn.linear_model import LinearRegression"
   ]
  },
  {
   "cell_type": "code",
   "execution_count": 12,
   "metadata": {},
   "outputs": [],
   "source": [
    "pd.core.common.is_list_like = pd.api.types.is_list_like"
   ]
  },
  {
   "cell_type": "code",
   "execution_count": 13,
   "metadata": {},
   "outputs": [],
   "source": [
    "import pandas_datareader.data as web"
   ]
  },
  {
   "cell_type": "markdown",
   "metadata": {},
   "source": [
    "Calculating Ln of return rate"
   ]
  },
  {
   "cell_type": "code",
   "execution_count": 4,
   "metadata": {},
   "outputs": [],
   "source": [
    "def ex_returnrate(filename):\n",
    "    filename = filename\n",
    "    columns = ['Date', 'Open', 'High', 'Low', 'Close', 'Volume', 'Turnover']\n",
    "    f = pd.read_excel(filename,skiprows=[0,1],header=None,names=columns)\n",
    "    f = f.set_index('Date')\n",
    "    f['shift1'] = f['Close'].shift(1)\n",
    "    f['Returnofday'] = f.apply(lambda x:np.log(x['Close']/x['shift1']),\n",
    "                               axis=1)\n",
    "    df_cal = f['Returnofday'].resample('W').mean()*5\n",
    "    df_cal = pd.DataFrame(df_cal)\n",
    "    return df_cal"
   ]
  },
  {
   "cell_type": "code",
   "execution_count": 5,
   "metadata": {},
   "outputs": [],
   "source": [
    "tickers = os.listdir('/Users/ally/AI/data/price data')"
   ]
  },
  {
   "cell_type": "code",
   "execution_count": 6,
   "metadata": {},
   "outputs": [],
   "source": [
    "dir = '/Users/ally/AI/data/price data/'"
   ]
  },
  {
   "cell_type": "code",
   "execution_count": 7,
   "metadata": {
    "collapsed": true
   },
   "outputs": [
    {
     "name": "stdout",
     "output_type": "stream",
     "text": [
      "0\n"
     ]
    },
    {
     "name": "stderr",
     "output_type": "stream",
     "text": [
      "/Users/ally/anaconda3/envs/tfquant/lib/python3.5/site-packages/ipykernel_launcher.py:7: RuntimeWarning: invalid value encountered in log\n  import sys\n/Users/ally/anaconda3/envs/tfquant/lib/python3.5/site-packages/ipykernel_launcher.py:7: RuntimeWarning: divide by zero encountered in log\n  import sys\n/Users/ally/anaconda3/envs/tfquant/lib/python3.5/site-packages/ipykernel_launcher.py:7: RuntimeWarning: divide by zero encountered in double_scalars\n  import sys\n/Users/ally/anaconda3/envs/tfquant/lib/python3.5/site-packages/ipykernel_launcher.py:7: RuntimeWarning: invalid value encountered in double_scalars\n  import sys\n"
     ]
    },
    {
     "ename": "KeyboardInterrupt",
     "evalue": "",
     "traceback": [
      "\u001b[0;31m---------------------------------------------------------------------------\u001b[0m",
      "\u001b[0;31mKeyboardInterrupt\u001b[0m                         Traceback (most recent call last)",
      "\u001b[0;32m<ipython-input-7-ddca80757b06>\u001b[0m in \u001b[0;36m<module>\u001b[0;34m()\u001b[0m\n\u001b[1;32m      1\u001b[0m \u001b[0;32mfor\u001b[0m \u001b[0mi\u001b[0m\u001b[0;34m,\u001b[0m\u001b[0mticker\u001b[0m \u001b[0;32min\u001b[0m \u001b[0menumerate\u001b[0m\u001b[0;34m(\u001b[0m\u001b[0mtickers\u001b[0m\u001b[0;34m)\u001b[0m\u001b[0;34m:\u001b[0m\u001b[0;34m\u001b[0m\u001b[0m\n\u001b[1;32m      2\u001b[0m     \u001b[0mfilename\u001b[0m \u001b[0;34m=\u001b[0m \u001b[0mdir\u001b[0m\u001b[0;34m+\u001b[0m\u001b[0mticker\u001b[0m\u001b[0;34m\u001b[0m\u001b[0m\n\u001b[0;32m----> 3\u001b[0;31m     \u001b[0mdf\u001b[0m \u001b[0;34m=\u001b[0m \u001b[0mex_returnrate\u001b[0m\u001b[0;34m(\u001b[0m\u001b[0mfilename\u001b[0m\u001b[0;34m)\u001b[0m\u001b[0;34m\u001b[0m\u001b[0m\n\u001b[0m\u001b[1;32m      4\u001b[0m     \u001b[0mdf\u001b[0m\u001b[0;34m.\u001b[0m\u001b[0mto_excel\u001b[0m\u001b[0;34m(\u001b[0m\u001b[0;34m'/Users/ally/AI/data/returnrate data/{}'\u001b[0m\u001b[0;34m.\u001b[0m\u001b[0mformat\u001b[0m\u001b[0;34m(\u001b[0m\u001b[0mticker\u001b[0m\u001b[0;34m)\u001b[0m\u001b[0;34m)\u001b[0m\u001b[0;34m\u001b[0m\u001b[0m\n\u001b[1;32m      5\u001b[0m     \u001b[0;32mif\u001b[0m \u001b[0mi\u001b[0m \u001b[0;34m%\u001b[0m \u001b[0;36m50\u001b[0m \u001b[0;34m==\u001b[0m \u001b[0;36m0\u001b[0m\u001b[0;34m:\u001b[0m\u001b[0;34m\u001b[0m\u001b[0m\n",
      "\u001b[0;32m<ipython-input-4-523dfe89b422>\u001b[0m in \u001b[0;36mex_returnrate\u001b[0;34m(filename)\u001b[0m\n\u001b[1;32m      6\u001b[0m     \u001b[0mf\u001b[0m\u001b[0;34m[\u001b[0m\u001b[0;34m'shift1'\u001b[0m\u001b[0;34m]\u001b[0m \u001b[0;34m=\u001b[0m \u001b[0mf\u001b[0m\u001b[0;34m[\u001b[0m\u001b[0;34m'Close'\u001b[0m\u001b[0;34m]\u001b[0m\u001b[0;34m.\u001b[0m\u001b[0mshift\u001b[0m\u001b[0;34m(\u001b[0m\u001b[0;36m1\u001b[0m\u001b[0;34m)\u001b[0m\u001b[0;34m\u001b[0m\u001b[0m\n\u001b[1;32m      7\u001b[0m     f['Returnofday'] = f.apply(lambda x:np.log(x['Close']/x['shift1']),\n\u001b[0;32m----> 8\u001b[0;31m                                axis=1)\n\u001b[0m\u001b[1;32m      9\u001b[0m     \u001b[0mdf_cal\u001b[0m \u001b[0;34m=\u001b[0m \u001b[0mf\u001b[0m\u001b[0;34m[\u001b[0m\u001b[0;34m'Returnofday'\u001b[0m\u001b[0;34m]\u001b[0m\u001b[0;34m.\u001b[0m\u001b[0mresample\u001b[0m\u001b[0;34m(\u001b[0m\u001b[0;34m'W'\u001b[0m\u001b[0;34m)\u001b[0m\u001b[0;34m.\u001b[0m\u001b[0mmean\u001b[0m\u001b[0;34m(\u001b[0m\u001b[0;34m)\u001b[0m\u001b[0;34m*\u001b[0m\u001b[0;36m5\u001b[0m\u001b[0;34m\u001b[0m\u001b[0m\n\u001b[1;32m     10\u001b[0m     \u001b[0mdf_cal\u001b[0m \u001b[0;34m=\u001b[0m \u001b[0mpd\u001b[0m\u001b[0;34m.\u001b[0m\u001b[0mDataFrame\u001b[0m\u001b[0;34m(\u001b[0m\u001b[0mdf_cal\u001b[0m\u001b[0;34m)\u001b[0m\u001b[0;34m\u001b[0m\u001b[0m\n",
      "\u001b[0;32m~/anaconda3/envs/tfquant/lib/python3.5/site-packages/pandas/core/frame.py\u001b[0m in \u001b[0;36mapply\u001b[0;34m(self, func, axis, broadcast, raw, reduce, result_type, args, **kwds)\u001b[0m\n\u001b[1;32m   6012\u001b[0m                          \u001b[0margs\u001b[0m\u001b[0;34m=\u001b[0m\u001b[0margs\u001b[0m\u001b[0;34m,\u001b[0m\u001b[0;34m\u001b[0m\u001b[0m\n\u001b[1;32m   6013\u001b[0m                          kwds=kwds)\n\u001b[0;32m-> 6014\u001b[0;31m         \u001b[0;32mreturn\u001b[0m \u001b[0mop\u001b[0m\u001b[0;34m.\u001b[0m\u001b[0mget_result\u001b[0m\u001b[0;34m(\u001b[0m\u001b[0;34m)\u001b[0m\u001b[0;34m\u001b[0m\u001b[0m\n\u001b[0m\u001b[1;32m   6015\u001b[0m \u001b[0;34m\u001b[0m\u001b[0m\n\u001b[1;32m   6016\u001b[0m     \u001b[0;32mdef\u001b[0m \u001b[0mapplymap\u001b[0m\u001b[0;34m(\u001b[0m\u001b[0mself\u001b[0m\u001b[0;34m,\u001b[0m \u001b[0mfunc\u001b[0m\u001b[0;34m)\u001b[0m\u001b[0;34m:\u001b[0m\u001b[0;34m\u001b[0m\u001b[0m\n",
      "\u001b[0;32m~/anaconda3/envs/tfquant/lib/python3.5/site-packages/pandas/core/apply.py\u001b[0m in \u001b[0;36mget_result\u001b[0;34m(self)\u001b[0m\n\u001b[1;32m    140\u001b[0m             \u001b[0;32mreturn\u001b[0m \u001b[0mself\u001b[0m\u001b[0;34m.\u001b[0m\u001b[0mapply_raw\u001b[0m\u001b[0;34m(\u001b[0m\u001b[0;34m)\u001b[0m\u001b[0;34m\u001b[0m\u001b[0m\n\u001b[1;32m    141\u001b[0m \u001b[0;34m\u001b[0m\u001b[0m\n\u001b[0;32m--> 142\u001b[0;31m         \u001b[0;32mreturn\u001b[0m \u001b[0mself\u001b[0m\u001b[0;34m.\u001b[0m\u001b[0mapply_standard\u001b[0m\u001b[0;34m(\u001b[0m\u001b[0;34m)\u001b[0m\u001b[0;34m\u001b[0m\u001b[0m\n\u001b[0m\u001b[1;32m    143\u001b[0m \u001b[0;34m\u001b[0m\u001b[0m\n\u001b[1;32m    144\u001b[0m     \u001b[0;32mdef\u001b[0m \u001b[0mapply_empty_result\u001b[0m\u001b[0;34m(\u001b[0m\u001b[0mself\u001b[0m\u001b[0;34m)\u001b[0m\u001b[0;34m:\u001b[0m\u001b[0;34m\u001b[0m\u001b[0m\n",
      "\u001b[0;32m~/anaconda3/envs/tfquant/lib/python3.5/site-packages/pandas/core/apply.py\u001b[0m in \u001b[0;36mapply_standard\u001b[0;34m(self)\u001b[0m\n\u001b[1;32m    240\u001b[0m                                           \u001b[0maxis\u001b[0m\u001b[0;34m=\u001b[0m\u001b[0mself\u001b[0m\u001b[0;34m.\u001b[0m\u001b[0maxis\u001b[0m\u001b[0;34m,\u001b[0m\u001b[0;34m\u001b[0m\u001b[0m\n\u001b[1;32m    241\u001b[0m                                           \u001b[0mdummy\u001b[0m\u001b[0;34m=\u001b[0m\u001b[0mdummy\u001b[0m\u001b[0;34m,\u001b[0m\u001b[0;34m\u001b[0m\u001b[0m\n\u001b[0;32m--> 242\u001b[0;31m                                           labels=labels)\n\u001b[0m\u001b[1;32m    243\u001b[0m                 \u001b[0;32mreturn\u001b[0m \u001b[0mself\u001b[0m\u001b[0;34m.\u001b[0m\u001b[0mobj\u001b[0m\u001b[0;34m.\u001b[0m\u001b[0m_constructor_sliced\u001b[0m\u001b[0;34m(\u001b[0m\u001b[0mresult\u001b[0m\u001b[0;34m,\u001b[0m \u001b[0mindex\u001b[0m\u001b[0;34m=\u001b[0m\u001b[0mlabels\u001b[0m\u001b[0;34m)\u001b[0m\u001b[0;34m\u001b[0m\u001b[0m\n\u001b[1;32m    244\u001b[0m             \u001b[0;32mexcept\u001b[0m \u001b[0mException\u001b[0m\u001b[0;34m:\u001b[0m\u001b[0;34m\u001b[0m\u001b[0m\n",
      "\u001b[0;32mpandas/_libs/reduction.pyx\u001b[0m in \u001b[0;36mpandas._libs.reduction.reduce\u001b[0;34m()\u001b[0m\n",
      "\u001b[0;32mpandas/_libs/reduction.pyx\u001b[0m in \u001b[0;36mpandas._libs.reduction.Reducer.get_result\u001b[0;34m()\u001b[0m\n",
      "\u001b[0;32m<ipython-input-4-523dfe89b422>\u001b[0m in \u001b[0;36m<lambda>\u001b[0;34m(x)\u001b[0m\n\u001b[1;32m      5\u001b[0m     \u001b[0mf\u001b[0m \u001b[0;34m=\u001b[0m \u001b[0mf\u001b[0m\u001b[0;34m.\u001b[0m\u001b[0mset_index\u001b[0m\u001b[0;34m(\u001b[0m\u001b[0;34m'Date'\u001b[0m\u001b[0;34m)\u001b[0m\u001b[0;34m\u001b[0m\u001b[0m\n\u001b[1;32m      6\u001b[0m     \u001b[0mf\u001b[0m\u001b[0;34m[\u001b[0m\u001b[0;34m'shift1'\u001b[0m\u001b[0;34m]\u001b[0m \u001b[0;34m=\u001b[0m \u001b[0mf\u001b[0m\u001b[0;34m[\u001b[0m\u001b[0;34m'Close'\u001b[0m\u001b[0;34m]\u001b[0m\u001b[0;34m.\u001b[0m\u001b[0mshift\u001b[0m\u001b[0;34m(\u001b[0m\u001b[0;36m1\u001b[0m\u001b[0;34m)\u001b[0m\u001b[0;34m\u001b[0m\u001b[0m\n\u001b[0;32m----> 7\u001b[0;31m     f['Returnofday'] = f.apply(lambda x:np.log(x['Close']/x['shift1']),\n\u001b[0m\u001b[1;32m      8\u001b[0m                                axis=1)\n\u001b[1;32m      9\u001b[0m     \u001b[0mdf_cal\u001b[0m \u001b[0;34m=\u001b[0m \u001b[0mf\u001b[0m\u001b[0;34m[\u001b[0m\u001b[0;34m'Returnofday'\u001b[0m\u001b[0;34m]\u001b[0m\u001b[0;34m.\u001b[0m\u001b[0mresample\u001b[0m\u001b[0;34m(\u001b[0m\u001b[0;34m'W'\u001b[0m\u001b[0;34m)\u001b[0m\u001b[0;34m.\u001b[0m\u001b[0mmean\u001b[0m\u001b[0;34m(\u001b[0m\u001b[0;34m)\u001b[0m\u001b[0;34m*\u001b[0m\u001b[0;36m5\u001b[0m\u001b[0;34m\u001b[0m\u001b[0m\n",
      "\u001b[0;32m~/anaconda3/envs/tfquant/lib/python3.5/site-packages/pandas/core/series.py\u001b[0m in \u001b[0;36m__getitem__\u001b[0;34m(self, key)\u001b[0m\n\u001b[1;32m    765\u001b[0m         \u001b[0mkey\u001b[0m \u001b[0;34m=\u001b[0m \u001b[0mcom\u001b[0m\u001b[0;34m.\u001b[0m\u001b[0m_apply_if_callable\u001b[0m\u001b[0;34m(\u001b[0m\u001b[0mkey\u001b[0m\u001b[0;34m,\u001b[0m \u001b[0mself\u001b[0m\u001b[0;34m)\u001b[0m\u001b[0;34m\u001b[0m\u001b[0m\n\u001b[1;32m    766\u001b[0m         \u001b[0;32mtry\u001b[0m\u001b[0;34m:\u001b[0m\u001b[0;34m\u001b[0m\u001b[0m\n\u001b[0;32m--> 767\u001b[0;31m             \u001b[0mresult\u001b[0m \u001b[0;34m=\u001b[0m \u001b[0mself\u001b[0m\u001b[0;34m.\u001b[0m\u001b[0mindex\u001b[0m\u001b[0;34m.\u001b[0m\u001b[0mget_value\u001b[0m\u001b[0;34m(\u001b[0m\u001b[0mself\u001b[0m\u001b[0;34m,\u001b[0m \u001b[0mkey\u001b[0m\u001b[0;34m)\u001b[0m\u001b[0;34m\u001b[0m\u001b[0m\n\u001b[0m\u001b[1;32m    768\u001b[0m \u001b[0;34m\u001b[0m\u001b[0m\n\u001b[1;32m    769\u001b[0m             \u001b[0;32mif\u001b[0m \u001b[0;32mnot\u001b[0m \u001b[0mis_scalar\u001b[0m\u001b[0;34m(\u001b[0m\u001b[0mresult\u001b[0m\u001b[0;34m)\u001b[0m\u001b[0;34m:\u001b[0m\u001b[0;34m\u001b[0m\u001b[0m\n",
      "\u001b[0;32m~/anaconda3/envs/tfquant/lib/python3.5/site-packages/pandas/core/indexes/base.py\u001b[0m in \u001b[0;36mget_value\u001b[0;34m(self, series, key)\u001b[0m\n\u001b[1;32m   3116\u001b[0m         \u001b[0;32mtry\u001b[0m\u001b[0;34m:\u001b[0m\u001b[0;34m\u001b[0m\u001b[0m\n\u001b[1;32m   3117\u001b[0m             return self._engine.get_value(s, k,\n\u001b[0;32m-> 3118\u001b[0;31m                                           tz=getattr(series.dtype, 'tz', None))\n\u001b[0m\u001b[1;32m   3119\u001b[0m         \u001b[0;32mexcept\u001b[0m \u001b[0mKeyError\u001b[0m \u001b[0;32mas\u001b[0m \u001b[0me1\u001b[0m\u001b[0;34m:\u001b[0m\u001b[0;34m\u001b[0m\u001b[0m\n\u001b[1;32m   3120\u001b[0m             \u001b[0;32mif\u001b[0m \u001b[0mlen\u001b[0m\u001b[0;34m(\u001b[0m\u001b[0mself\u001b[0m\u001b[0;34m)\u001b[0m \u001b[0;34m>\u001b[0m \u001b[0;36m0\u001b[0m \u001b[0;32mand\u001b[0m \u001b[0mself\u001b[0m\u001b[0;34m.\u001b[0m\u001b[0minferred_type\u001b[0m \u001b[0;32min\u001b[0m \u001b[0;34m[\u001b[0m\u001b[0;34m'integer'\u001b[0m\u001b[0;34m,\u001b[0m \u001b[0;34m'boolean'\u001b[0m\u001b[0;34m]\u001b[0m\u001b[0;34m:\u001b[0m\u001b[0;34m\u001b[0m\u001b[0m\n",
      "\u001b[0;31mKeyboardInterrupt\u001b[0m: "
     ],
     "output_type": "error"
    }
   ],
   "source": [
    "for i,ticker in enumerate(tickers):\n",
    "    filename = dir+ticker\n",
    "    df = ex_returnrate(filename)\n",
    "    df.to_excel('/Users/ally/AI/data/returnrate data/{}'.format(ticker))\n",
    "    if i % 50 == 0:\n",
    "        print(i)"
   ]
  },
  {
   "cell_type": "code",
   "execution_count": 75,
   "metadata": {},
   "outputs": [
    {
     "data": {
      "text/plain": [
       "300"
      ]
     },
     "execution_count": 75,
     "metadata": {},
     "output_type": "execute_result"
    }
   ],
   "source": [
    "ticker_new = os.listdir('/Users/ally/AI/data/returnrate data')\n",
    "len(ticker_new)"
   ]
  },
  {
   "cell_type": "code",
   "execution_count": 76,
   "metadata": {},
   "outputs": [],
   "source": [
    "dif = [x for x in ticker_new if x not in tickers]"
   ]
  },
  {
   "cell_type": "code",
   "execution_count": 77,
   "metadata": {},
   "outputs": [
    {
     "data": {
      "text/plain": [
       "[]"
      ]
     },
     "execution_count": 77,
     "metadata": {},
     "output_type": "execute_result"
    }
   ],
   "source": [
    "dif"
   ]
  },
  {
   "cell_type": "markdown",
   "metadata": {},
   "source": [
    "Calculating alpha"
   ]
  },
  {
   "cell_type": "code",
   "execution_count": 78,
   "metadata": {},
   "outputs": [],
   "source": [
    "risk_free = 3.645/100   #十年期国债利率"
   ]
  },
  {
   "cell_type": "code",
   "execution_count": 79,
   "metadata": {},
   "outputs": [],
   "source": [
    "freq = 'S'"
   ]
  },
  {
   "cell_type": "code",
   "execution_count": 24,
   "metadata": {},
   "outputs": [],
   "source": [
    "def lireg(x,y):\n",
    "    \n",
    "    model = LinearRegression()\n",
    "    model.fit(x,y)\n",
    "    return model.intercept_\n"
   ]
  },
  {
   "cell_type": "code",
   "execution_count": 29,
   "metadata": {},
   "outputs": [],
   "source": [
    "df_x = pd.read_excel('data/sh300returnrate.xlsx',\n",
    "                     index_col=0,header=0,names=['market'])"
   ]
  },
  {
   "cell_type": "code",
   "execution_count": 30,
   "metadata": {},
   "outputs": [
    {
     "data": {
      "text/html": [
       "<div>\n",
       "<style scoped>\n",
       "    .dataframe tbody tr th:only-of-type {\n",
       "        vertical-align: middle;\n",
       "    }\n",
       "\n",
       "    .dataframe tbody tr th {\n",
       "        vertical-align: top;\n",
       "    }\n",
       "\n",
       "    .dataframe thead th {\n",
       "        text-align: right;\n",
       "    }\n",
       "</style>\n",
       "<table border=\"1\" class=\"dataframe\">\n",
       "  <thead>\n",
       "    <tr style=\"text-align: right;\">\n",
       "      <th></th>\n",
       "      <th>market</th>\n",
       "    </tr>\n",
       "    <tr>\n",
       "      <th>Date</th>\n",
       "      <th></th>\n",
       "    </tr>\n",
       "  </thead>\n",
       "  <tbody>\n",
       "    <tr>\n",
       "      <th>2005-04-10</th>\n",
       "      <td>NaN</td>\n",
       "    </tr>\n",
       "    <tr>\n",
       "      <th>2005-04-17</th>\n",
       "      <td>-0.029706</td>\n",
       "    </tr>\n",
       "    <tr>\n",
       "      <th>2005-04-24</th>\n",
       "      <td>-0.036571</td>\n",
       "    </tr>\n",
       "    <tr>\n",
       "      <th>2005-05-01</th>\n",
       "      <td>-0.007160</td>\n",
       "    </tr>\n",
       "    <tr>\n",
       "      <th>2005-05-08</th>\n",
       "      <td>NaN</td>\n",
       "    </tr>\n",
       "  </tbody>\n",
       "</table>\n",
       "</div>"
      ],
      "text/plain": [
       "<div>\n",
       "<style scoped>\n",
       "    .dataframe tbody tr th:only-of-type {\n",
       "        vertical-align: middle;\n",
       "    }\n",
       "\n",
       "    .dataframe tbody tr th {\n",
       "        vertical-align: top;\n",
       "    }\n",
       "\n",
       "    .dataframe thead th {\n",
       "        text-align: right;\n",
       "    }\n",
       "</style>\n",
       "<table border=\"1\" class=\"dataframe\">\n",
       "  <thead>\n",
       "    <tr style=\"text-align: right;\">\n",
       "      <th></th>\n",
       "      <th>market</th>\n",
       "    </tr>\n",
       "    <tr>\n",
       "      <th>Date</th>\n",
       "      <th></th>\n",
       "    </tr>\n",
       "  </thead>\n",
       "  <tbody>\n",
       "    <tr>\n",
       "      <th>2005-04-10</th>\n",
       "      <td>NaN</td>\n",
       "    </tr>\n",
       "    <tr>\n",
       "      <th>2005-04-17</th>\n",
       "      <td>-0.029706</td>\n",
       "    </tr>\n",
       "    <tr>\n",
       "      <th>2005-04-24</th>\n",
       "      <td>-0.036571</td>\n",
       "    </tr>\n",
       "    <tr>\n",
       "      <th>2005-05-01</th>\n",
       "      <td>-0.007160</td>\n",
       "    </tr>\n",
       "    <tr>\n",
       "      <th>2005-05-08</th>\n",
       "      <td>NaN</td>\n",
       "    </tr>\n",
       "  </tbody>\n",
       "</table>\n",
       "</div>"
      ]
     },
     "execution_count": 30,
     "metadata": {},
     "output_type": "execute_result"
    }
   ],
   "source": [
    "df_x.head()"
   ]
  },
  {
   "cell_type": "code",
   "execution_count": 32,
   "metadata": {},
   "outputs": [],
   "source": [
    "df_y = pd.read_excel('data/returnrate data/SH600008.xlsx',\n",
    "                     index_col=0,header=0,names=['company'])"
   ]
  },
  {
   "cell_type": "code",
   "execution_count": 33,
   "metadata": {},
   "outputs": [
    {
     "data": {
      "text/html": [
       "<div>\n",
       "<style scoped>\n",
       "    .dataframe tbody tr th:only-of-type {\n",
       "        vertical-align: middle;\n",
       "    }\n",
       "\n",
       "    .dataframe tbody tr th {\n",
       "        vertical-align: top;\n",
       "    }\n",
       "\n",
       "    .dataframe thead th {\n",
       "        text-align: right;\n",
       "    }\n",
       "</style>\n",
       "<table border=\"1\" class=\"dataframe\">\n",
       "  <thead>\n",
       "    <tr style=\"text-align: right;\">\n",
       "      <th></th>\n",
       "      <th>company</th>\n",
       "    </tr>\n",
       "    <tr>\n",
       "      <th>Date</th>\n",
       "      <th></th>\n",
       "    </tr>\n",
       "  </thead>\n",
       "  <tbody>\n",
       "    <tr>\n",
       "      <th>2000-04-30</th>\n",
       "      <td>7.265505e-01</td>\n",
       "    </tr>\n",
       "    <tr>\n",
       "      <th>2000-05-07</th>\n",
       "      <td>NaN</td>\n",
       "    </tr>\n",
       "    <tr>\n",
       "      <th>2000-05-14</th>\n",
       "      <td>7.878088e-02</td>\n",
       "    </tr>\n",
       "    <tr>\n",
       "      <th>2000-05-21</th>\n",
       "      <td>1.503788e-02</td>\n",
       "    </tr>\n",
       "    <tr>\n",
       "      <th>2000-05-28</th>\n",
       "      <td>9.020562e-17</td>\n",
       "    </tr>\n",
       "  </tbody>\n",
       "</table>\n",
       "</div>"
      ],
      "text/plain": [
       "<div>\n",
       "<style scoped>\n",
       "    .dataframe tbody tr th:only-of-type {\n",
       "        vertical-align: middle;\n",
       "    }\n",
       "\n",
       "    .dataframe tbody tr th {\n",
       "        vertical-align: top;\n",
       "    }\n",
       "\n",
       "    .dataframe thead th {\n",
       "        text-align: right;\n",
       "    }\n",
       "</style>\n",
       "<table border=\"1\" class=\"dataframe\">\n",
       "  <thead>\n",
       "    <tr style=\"text-align: right;\">\n",
       "      <th></th>\n",
       "      <th>company</th>\n",
       "    </tr>\n",
       "    <tr>\n",
       "      <th>Date</th>\n",
       "      <th></th>\n",
       "    </tr>\n",
       "  </thead>\n",
       "  <tbody>\n",
       "    <tr>\n",
       "      <th>2000-04-30</th>\n",
       "      <td>7.265505e-01</td>\n",
       "    </tr>\n",
       "    <tr>\n",
       "      <th>2000-05-07</th>\n",
       "      <td>NaN</td>\n",
       "    </tr>\n",
       "    <tr>\n",
       "      <th>2000-05-14</th>\n",
       "      <td>7.878088e-02</td>\n",
       "    </tr>\n",
       "    <tr>\n",
       "      <th>2000-05-21</th>\n",
       "      <td>1.503788e-02</td>\n",
       "    </tr>\n",
       "    <tr>\n",
       "      <th>2000-05-28</th>\n",
       "      <td>9.020562e-17</td>\n",
       "    </tr>\n",
       "  </tbody>\n",
       "</table>\n",
       "</div>"
      ]
     },
     "execution_count": 33,
     "metadata": {},
     "output_type": "execute_result"
    }
   ],
   "source": [
    "df_y.head()"
   ]
  },
  {
   "cell_type": "code",
   "execution_count": 34,
   "metadata": {},
   "outputs": [],
   "source": [
    "df = pd.concat([df_x,df_y],axis=1,join='outer',join_axes=[df_y.index])\n",
    "df = df.replace([np.inf,-np.inf],np.nan)\n",
    "df = df.dropna(axis=0)"
   ]
  },
  {
   "cell_type": "code",
   "execution_count": 38,
   "metadata": {},
   "outputs": [
    {
     "data": {
      "text/html": [
       "<div>\n",
       "<style scoped>\n",
       "    .dataframe tbody tr th:only-of-type {\n",
       "        vertical-align: middle;\n",
       "    }\n",
       "\n",
       "    .dataframe tbody tr th {\n",
       "        vertical-align: top;\n",
       "    }\n",
       "\n",
       "    .dataframe thead th {\n",
       "        text-align: right;\n",
       "    }\n",
       "</style>\n",
       "<table border=\"1\" class=\"dataframe\">\n",
       "  <thead>\n",
       "    <tr style=\"text-align: right;\">\n",
       "      <th></th>\n",
       "      <th>market</th>\n",
       "      <th>company</th>\n",
       "    </tr>\n",
       "    <tr>\n",
       "      <th>Date</th>\n",
       "      <th></th>\n",
       "      <th></th>\n",
       "    </tr>\n",
       "  </thead>\n",
       "  <tbody>\n",
       "    <tr>\n",
       "      <th>2005-04-17</th>\n",
       "      <td>-0.029706</td>\n",
       "      <td>-0.041385</td>\n",
       "    </tr>\n",
       "    <tr>\n",
       "      <th>2005-04-24</th>\n",
       "      <td>-0.036571</td>\n",
       "      <td>0.027780</td>\n",
       "    </tr>\n",
       "    <tr>\n",
       "      <th>2005-05-01</th>\n",
       "      <td>-0.007160</td>\n",
       "      <td>-0.013793</td>\n",
       "    </tr>\n",
       "    <tr>\n",
       "      <th>2005-05-15</th>\n",
       "      <td>-0.049308</td>\n",
       "      <td>0.013793</td>\n",
       "    </tr>\n",
       "    <tr>\n",
       "      <th>2005-05-22</th>\n",
       "      <td>-0.005400</td>\n",
       "      <td>-0.107209</td>\n",
       "    </tr>\n",
       "  </tbody>\n",
       "</table>\n",
       "</div>"
      ],
      "text/plain": [
       "<div>\n",
       "<style scoped>\n",
       "    .dataframe tbody tr th:only-of-type {\n",
       "        vertical-align: middle;\n",
       "    }\n",
       "\n",
       "    .dataframe tbody tr th {\n",
       "        vertical-align: top;\n",
       "    }\n",
       "\n",
       "    .dataframe thead th {\n",
       "        text-align: right;\n",
       "    }\n",
       "</style>\n",
       "<table border=\"1\" class=\"dataframe\">\n",
       "  <thead>\n",
       "    <tr style=\"text-align: right;\">\n",
       "      <th></th>\n",
       "      <th>market</th>\n",
       "      <th>company</th>\n",
       "    </tr>\n",
       "    <tr>\n",
       "      <th>Date</th>\n",
       "      <th></th>\n",
       "      <th></th>\n",
       "    </tr>\n",
       "  </thead>\n",
       "  <tbody>\n",
       "    <tr>\n",
       "      <th>2005-04-17</th>\n",
       "      <td>-0.029706</td>\n",
       "      <td>-0.041385</td>\n",
       "    </tr>\n",
       "    <tr>\n",
       "      <th>2005-04-24</th>\n",
       "      <td>-0.036571</td>\n",
       "      <td>0.027780</td>\n",
       "    </tr>\n",
       "    <tr>\n",
       "      <th>2005-05-01</th>\n",
       "      <td>-0.007160</td>\n",
       "      <td>-0.013793</td>\n",
       "    </tr>\n",
       "    <tr>\n",
       "      <th>2005-05-15</th>\n",
       "      <td>-0.049308</td>\n",
       "      <td>0.013793</td>\n",
       "    </tr>\n",
       "    <tr>\n",
       "      <th>2005-05-22</th>\n",
       "      <td>-0.005400</td>\n",
       "      <td>-0.107209</td>\n",
       "    </tr>\n",
       "  </tbody>\n",
       "</table>\n",
       "</div>"
      ]
     },
     "execution_count": 38,
     "metadata": {},
     "output_type": "execute_result"
    }
   ],
   "source": [
    "df.head()"
   ]
  },
  {
   "cell_type": "code",
   "execution_count": 39,
   "metadata": {},
   "outputs": [],
   "source": [
    "df_cal = df.resample('Q').apply(lambda x:lireg(x[['market']],x['company']))\n"
   ]
  },
  {
   "cell_type": "code",
   "execution_count": 40,
   "metadata": {},
   "outputs": [
    {
     "data": {
      "text/plain": [
       "Date\n2005-06-30    0.024418\n2005-09-30    0.019588\n2005-12-31    0.012239\n2006-03-31   -0.020972\n2006-06-30   -0.031789\nFreq: Q-DEC, dtype: float64"
      ]
     },
     "execution_count": 40,
     "metadata": {},
     "output_type": "execute_result"
    }
   ],
   "source": [
    "df_cal.head()"
   ]
  },
  {
   "cell_type": "code",
   "execution_count": 41,
   "metadata": {},
   "outputs": [
    {
     "data": {
      "text/plain": [
       "pandas.core.series.Series"
      ]
     },
     "execution_count": 41,
     "metadata": {},
     "output_type": "execute_result"
    }
   ],
   "source": [
    "type(df_cal)"
   ]
  },
  {
   "cell_type": "code",
   "execution_count": 43,
   "metadata": {
    "collapsed": true
   },
   "outputs": [
    {
     "data": {
      "text/html": [
       "<div>\n",
       "<style scoped>\n",
       "    .dataframe tbody tr th:only-of-type {\n",
       "        vertical-align: middle;\n",
       "    }\n",
       "\n",
       "    .dataframe tbody tr th {\n",
       "        vertical-align: top;\n",
       "    }\n",
       "\n",
       "    .dataframe thead th {\n",
       "        text-align: right;\n",
       "    }\n",
       "</style>\n",
       "<table border=\"1\" class=\"dataframe\">\n",
       "  <thead>\n",
       "    <tr style=\"text-align: right;\">\n",
       "      <th></th>\n",
       "      <th>company</th>\n",
       "    </tr>\n",
       "    <tr>\n",
       "      <th>Date</th>\n",
       "      <th></th>\n",
       "    </tr>\n",
       "  </thead>\n",
       "  <tbody>\n",
       "    <tr>\n",
       "      <th>2005-06-30</th>\n",
       "      <td>0.024418</td>\n",
       "    </tr>\n",
       "    <tr>\n",
       "      <th>2005-09-30</th>\n",
       "      <td>0.019588</td>\n",
       "    </tr>\n",
       "    <tr>\n",
       "      <th>2005-12-31</th>\n",
       "      <td>0.012239</td>\n",
       "    </tr>\n",
       "    <tr>\n",
       "      <th>2006-03-31</th>\n",
       "      <td>-0.020972</td>\n",
       "    </tr>\n",
       "    <tr>\n",
       "      <th>2006-06-30</th>\n",
       "      <td>-0.031789</td>\n",
       "    </tr>\n",
       "    <tr>\n",
       "      <th>2006-09-30</th>\n",
       "      <td>-0.007854</td>\n",
       "    </tr>\n",
       "    <tr>\n",
       "      <th>2006-12-31</th>\n",
       "      <td>-0.020888</td>\n",
       "    </tr>\n",
       "    <tr>\n",
       "      <th>2007-03-31</th>\n",
       "      <td>0.039085</td>\n",
       "    </tr>\n",
       "    <tr>\n",
       "      <th>2007-06-30</th>\n",
       "      <td>-0.001181</td>\n",
       "    </tr>\n",
       "    <tr>\n",
       "      <th>2007-09-30</th>\n",
       "      <td>-0.067696</td>\n",
       "    </tr>\n",
       "    <tr>\n",
       "      <th>2007-12-31</th>\n",
       "      <td>0.014928</td>\n",
       "    </tr>\n",
       "    <tr>\n",
       "      <th>2008-03-31</th>\n",
       "      <td>0.010562</td>\n",
       "    </tr>\n",
       "    <tr>\n",
       "      <th>2008-06-30</th>\n",
       "      <td>-0.016203</td>\n",
       "    </tr>\n",
       "    <tr>\n",
       "      <th>2008-09-30</th>\n",
       "      <td>-0.010007</td>\n",
       "    </tr>\n",
       "    <tr>\n",
       "      <th>2008-12-31</th>\n",
       "      <td>0.020046</td>\n",
       "    </tr>\n",
       "    <tr>\n",
       "      <th>2009-03-31</th>\n",
       "      <td>-0.016664</td>\n",
       "    </tr>\n",
       "    <tr>\n",
       "      <th>2009-06-30</th>\n",
       "      <td>-0.009002</td>\n",
       "    </tr>\n",
       "    <tr>\n",
       "      <th>2009-09-30</th>\n",
       "      <td>-0.004593</td>\n",
       "    </tr>\n",
       "    <tr>\n",
       "      <th>2009-12-31</th>\n",
       "      <td>0.000710</td>\n",
       "    </tr>\n",
       "    <tr>\n",
       "      <th>2010-03-31</th>\n",
       "      <td>0.008426</td>\n",
       "    </tr>\n",
       "    <tr>\n",
       "      <th>2010-06-30</th>\n",
       "      <td>-0.004522</td>\n",
       "    </tr>\n",
       "    <tr>\n",
       "      <th>2010-09-30</th>\n",
       "      <td>-0.003887</td>\n",
       "    </tr>\n",
       "    <tr>\n",
       "      <th>2010-12-31</th>\n",
       "      <td>0.006855</td>\n",
       "    </tr>\n",
       "    <tr>\n",
       "      <th>2011-03-31</th>\n",
       "      <td>-0.010415</td>\n",
       "    </tr>\n",
       "    <tr>\n",
       "      <th>2011-06-30</th>\n",
       "      <td>-0.008471</td>\n",
       "    </tr>\n",
       "    <tr>\n",
       "      <th>2011-09-30</th>\n",
       "      <td>0.004172</td>\n",
       "    </tr>\n",
       "    <tr>\n",
       "      <th>2011-12-31</th>\n",
       "      <td>0.022206</td>\n",
       "    </tr>\n",
       "    <tr>\n",
       "      <th>2012-03-31</th>\n",
       "      <td>-0.015918</td>\n",
       "    </tr>\n",
       "    <tr>\n",
       "      <th>2012-06-30</th>\n",
       "      <td>-0.002439</td>\n",
       "    </tr>\n",
       "    <tr>\n",
       "      <th>2012-09-30</th>\n",
       "      <td>-0.011245</td>\n",
       "    </tr>\n",
       "    <tr>\n",
       "      <th>2012-12-31</th>\n",
       "      <td>-0.002357</td>\n",
       "    </tr>\n",
       "    <tr>\n",
       "      <th>2013-03-31</th>\n",
       "      <td>0.058688</td>\n",
       "    </tr>\n",
       "    <tr>\n",
       "      <th>2013-06-30</th>\n",
       "      <td>0.002501</td>\n",
       "    </tr>\n",
       "    <tr>\n",
       "      <th>2013-09-30</th>\n",
       "      <td>0.001333</td>\n",
       "    </tr>\n",
       "    <tr>\n",
       "      <th>2013-12-31</th>\n",
       "      <td>0.004981</td>\n",
       "    </tr>\n",
       "    <tr>\n",
       "      <th>2014-03-31</th>\n",
       "      <td>0.019265</td>\n",
       "    </tr>\n",
       "    <tr>\n",
       "      <th>2014-06-30</th>\n",
       "      <td>-0.003080</td>\n",
       "    </tr>\n",
       "    <tr>\n",
       "      <th>2014-09-30</th>\n",
       "      <td>0.012179</td>\n",
       "    </tr>\n",
       "    <tr>\n",
       "      <th>2014-12-31</th>\n",
       "      <td>0.002604</td>\n",
       "    </tr>\n",
       "    <tr>\n",
       "      <th>2015-03-31</th>\n",
       "      <td>0.008872</td>\n",
       "    </tr>\n",
       "    <tr>\n",
       "      <th>2015-06-30</th>\n",
       "      <td>-0.011348</td>\n",
       "    </tr>\n",
       "    <tr>\n",
       "      <th>2015-09-30</th>\n",
       "      <td>0.002347</td>\n",
       "    </tr>\n",
       "    <tr>\n",
       "      <th>2015-12-31</th>\n",
       "      <td>-0.010442</td>\n",
       "    </tr>\n",
       "    <tr>\n",
       "      <th>2016-03-31</th>\n",
       "      <td>-0.005710</td>\n",
       "    </tr>\n",
       "    <tr>\n",
       "      <th>2016-06-30</th>\n",
       "      <td>0.004044</td>\n",
       "    </tr>\n",
       "    <tr>\n",
       "      <th>2016-09-30</th>\n",
       "      <td>0.004696</td>\n",
       "    </tr>\n",
       "    <tr>\n",
       "      <th>2016-12-31</th>\n",
       "      <td>-0.006011</td>\n",
       "    </tr>\n",
       "    <tr>\n",
       "      <th>2017-03-31</th>\n",
       "      <td>-0.000513</td>\n",
       "    </tr>\n",
       "    <tr>\n",
       "      <th>2017-06-30</th>\n",
       "      <td>0.045777</td>\n",
       "    </tr>\n",
       "    <tr>\n",
       "      <th>2017-09-30</th>\n",
       "      <td>-0.007345</td>\n",
       "    </tr>\n",
       "    <tr>\n",
       "      <th>2017-12-31</th>\n",
       "      <td>-0.017363</td>\n",
       "    </tr>\n",
       "    <tr>\n",
       "      <th>2018-03-31</th>\n",
       "      <td>0.007939</td>\n",
       "    </tr>\n",
       "    <tr>\n",
       "      <th>2018-06-30</th>\n",
       "      <td>-0.013988</td>\n",
       "    </tr>\n",
       "    <tr>\n",
       "      <th>2018-09-30</th>\n",
       "      <td>-0.008041</td>\n",
       "    </tr>\n",
       "  </tbody>\n",
       "</table>\n",
       "</div>"
      ],
      "text/plain": [
       "<div>\n",
       "<style scoped>\n",
       "    .dataframe tbody tr th:only-of-type {\n",
       "        vertical-align: middle;\n",
       "    }\n",
       "\n",
       "    .dataframe tbody tr th {\n",
       "        vertical-align: top;\n",
       "    }\n",
       "\n",
       "    .dataframe thead th {\n",
       "        text-align: right;\n",
       "    }\n",
       "</style>\n",
       "<table border=\"1\" class=\"dataframe\">\n",
       "  <thead>\n",
       "    <tr style=\"text-align: right;\">\n",
       "      <th></th>\n",
       "      <th>company</th>\n",
       "    </tr>\n",
       "    <tr>\n",
       "      <th>Date</th>\n",
       "      <th></th>\n",
       "    </tr>\n",
       "  </thead>\n",
       "  <tbody>\n",
       "    <tr>\n",
       "      <th>2005-06-30</th>\n",
       "      <td>0.024418</td>\n",
       "    </tr>\n",
       "    <tr>\n",
       "      <th>2005-09-30</th>\n",
       "      <td>0.019588</td>\n",
       "    </tr>\n",
       "    <tr>\n",
       "      <th>2005-12-31</th>\n",
       "      <td>0.012239</td>\n",
       "    </tr>\n",
       "    <tr>\n",
       "      <th>2006-03-31</th>\n",
       "      <td>-0.020972</td>\n",
       "    </tr>\n",
       "    <tr>\n",
       "      <th>2006-06-30</th>\n",
       "      <td>-0.031789</td>\n",
       "    </tr>\n",
       "    <tr>\n",
       "      <th>2006-09-30</th>\n",
       "      <td>-0.007854</td>\n",
       "    </tr>\n",
       "    <tr>\n",
       "      <th>2006-12-31</th>\n",
       "      <td>-0.020888</td>\n",
       "    </tr>\n",
       "    <tr>\n",
       "      <th>2007-03-31</th>\n",
       "      <td>0.039085</td>\n",
       "    </tr>\n",
       "    <tr>\n",
       "      <th>2007-06-30</th>\n",
       "      <td>-0.001181</td>\n",
       "    </tr>\n",
       "    <tr>\n",
       "      <th>2007-09-30</th>\n",
       "      <td>-0.067696</td>\n",
       "    </tr>\n",
       "    <tr>\n",
       "      <th>2007-12-31</th>\n",
       "      <td>0.014928</td>\n",
       "    </tr>\n",
       "    <tr>\n",
       "      <th>2008-03-31</th>\n",
       "      <td>0.010562</td>\n",
       "    </tr>\n",
       "    <tr>\n",
       "      <th>2008-06-30</th>\n",
       "      <td>-0.016203</td>\n",
       "    </tr>\n",
       "    <tr>\n",
       "      <th>2008-09-30</th>\n",
       "      <td>-0.010007</td>\n",
       "    </tr>\n",
       "    <tr>\n",
       "      <th>2008-12-31</th>\n",
       "      <td>0.020046</td>\n",
       "    </tr>\n",
       "    <tr>\n",
       "      <th>2009-03-31</th>\n",
       "      <td>-0.016664</td>\n",
       "    </tr>\n",
       "    <tr>\n",
       "      <th>2009-06-30</th>\n",
       "      <td>-0.009002</td>\n",
       "    </tr>\n",
       "    <tr>\n",
       "      <th>2009-09-30</th>\n",
       "      <td>-0.004593</td>\n",
       "    </tr>\n",
       "    <tr>\n",
       "      <th>2009-12-31</th>\n",
       "      <td>0.000710</td>\n",
       "    </tr>\n",
       "    <tr>\n",
       "      <th>2010-03-31</th>\n",
       "      <td>0.008426</td>\n",
       "    </tr>\n",
       "    <tr>\n",
       "      <th>2010-06-30</th>\n",
       "      <td>-0.004522</td>\n",
       "    </tr>\n",
       "    <tr>\n",
       "      <th>2010-09-30</th>\n",
       "      <td>-0.003887</td>\n",
       "    </tr>\n",
       "    <tr>\n",
       "      <th>2010-12-31</th>\n",
       "      <td>0.006855</td>\n",
       "    </tr>\n",
       "    <tr>\n",
       "      <th>2011-03-31</th>\n",
       "      <td>-0.010415</td>\n",
       "    </tr>\n",
       "    <tr>\n",
       "      <th>2011-06-30</th>\n",
       "      <td>-0.008471</td>\n",
       "    </tr>\n",
       "    <tr>\n",
       "      <th>2011-09-30</th>\n",
       "      <td>0.004172</td>\n",
       "    </tr>\n",
       "    <tr>\n",
       "      <th>2011-12-31</th>\n",
       "      <td>0.022206</td>\n",
       "    </tr>\n",
       "    <tr>\n",
       "      <th>2012-03-31</th>\n",
       "      <td>-0.015918</td>\n",
       "    </tr>\n",
       "    <tr>\n",
       "      <th>2012-06-30</th>\n",
       "      <td>-0.002439</td>\n",
       "    </tr>\n",
       "    <tr>\n",
       "      <th>2012-09-30</th>\n",
       "      <td>-0.011245</td>\n",
       "    </tr>\n",
       "    <tr>\n",
       "      <th>2012-12-31</th>\n",
       "      <td>-0.002357</td>\n",
       "    </tr>\n",
       "    <tr>\n",
       "      <th>2013-03-31</th>\n",
       "      <td>0.058688</td>\n",
       "    </tr>\n",
       "    <tr>\n",
       "      <th>2013-06-30</th>\n",
       "      <td>0.002501</td>\n",
       "    </tr>\n",
       "    <tr>\n",
       "      <th>2013-09-30</th>\n",
       "      <td>0.001333</td>\n",
       "    </tr>\n",
       "    <tr>\n",
       "      <th>2013-12-31</th>\n",
       "      <td>0.004981</td>\n",
       "    </tr>\n",
       "    <tr>\n",
       "      <th>2014-03-31</th>\n",
       "      <td>0.019265</td>\n",
       "    </tr>\n",
       "    <tr>\n",
       "      <th>2014-06-30</th>\n",
       "      <td>-0.003080</td>\n",
       "    </tr>\n",
       "    <tr>\n",
       "      <th>2014-09-30</th>\n",
       "      <td>0.012179</td>\n",
       "    </tr>\n",
       "    <tr>\n",
       "      <th>2014-12-31</th>\n",
       "      <td>0.002604</td>\n",
       "    </tr>\n",
       "    <tr>\n",
       "      <th>2015-03-31</th>\n",
       "      <td>0.008872</td>\n",
       "    </tr>\n",
       "    <tr>\n",
       "      <th>2015-06-30</th>\n",
       "      <td>-0.011348</td>\n",
       "    </tr>\n",
       "    <tr>\n",
       "      <th>2015-09-30</th>\n",
       "      <td>0.002347</td>\n",
       "    </tr>\n",
       "    <tr>\n",
       "      <th>2015-12-31</th>\n",
       "      <td>-0.010442</td>\n",
       "    </tr>\n",
       "    <tr>\n",
       "      <th>2016-03-31</th>\n",
       "      <td>-0.005710</td>\n",
       "    </tr>\n",
       "    <tr>\n",
       "      <th>2016-06-30</th>\n",
       "      <td>0.004044</td>\n",
       "    </tr>\n",
       "    <tr>\n",
       "      <th>2016-09-30</th>\n",
       "      <td>0.004696</td>\n",
       "    </tr>\n",
       "    <tr>\n",
       "      <th>2016-12-31</th>\n",
       "      <td>-0.006011</td>\n",
       "    </tr>\n",
       "    <tr>\n",
       "      <th>2017-03-31</th>\n",
       "      <td>-0.000513</td>\n",
       "    </tr>\n",
       "    <tr>\n",
       "      <th>2017-06-30</th>\n",
       "      <td>0.045777</td>\n",
       "    </tr>\n",
       "    <tr>\n",
       "      <th>2017-09-30</th>\n",
       "      <td>-0.007345</td>\n",
       "    </tr>\n",
       "    <tr>\n",
       "      <th>2017-12-31</th>\n",
       "      <td>-0.017363</td>\n",
       "    </tr>\n",
       "    <tr>\n",
       "      <th>2018-03-31</th>\n",
       "      <td>0.007939</td>\n",
       "    </tr>\n",
       "    <tr>\n",
       "      <th>2018-06-30</th>\n",
       "      <td>-0.013988</td>\n",
       "    </tr>\n",
       "    <tr>\n",
       "      <th>2018-09-30</th>\n",
       "      <td>-0.008041</td>\n",
       "    </tr>\n",
       "  </tbody>\n",
       "</table>\n",
       "</div>"
      ]
     },
     "execution_count": 43,
     "metadata": {},
     "output_type": "execute_result"
    }
   ],
   "source": [
    "df_cal.to_frame(name='company')"
   ]
  },
  {
   "cell_type": "code",
   "execution_count": 44,
   "metadata": {},
   "outputs": [],
   "source": [
    "def alpha_cal(filename):\n",
    "    data_dir = 'data/returnrate data/'\n",
    "    file = data_dir + filename\n",
    "    # print(file)\n",
    "    df_x = pd.read_excel('data/sh300returnrate.xlsx',\n",
    "                     index_col=0,header=0,names=['market'])\n",
    "    \n",
    "    df_y = pd.read_excel(file,\n",
    "                     index_col=0,header=0,names=['company'])\n",
    "    #df_y['company'] = df_y['company'].map(np.exp)\n",
    "    df = pd.concat([df_x,df_y],axis=1,join='outer',join_axes=[df_y.index])\n",
    "    df = df.replace([np.inf,-np.inf],np.nan)\n",
    "    df = df.dropna(axis=0)\n",
    "    \n",
    "    # print(df.head())\n",
    "    \n",
    "    df_cal = df.resample('Q').apply(lambda x:lireg(x[['market']],x['company']))\n",
    "    \n",
    "    \n",
    "    df_alpha = df_cal.to_frame(name='alpha')\n",
    "    \n",
    "    \n",
    "    #save_dir = 'data/alpha/'\n",
    "    #df_alpha.to_excel('data/alpha/{}'.format(filename))\n",
    "    return df_alpha"
   ]
  },
  {
   "cell_type": "code",
   "execution_count": 83,
   "metadata": {},
   "outputs": [],
   "source": [
    "tikers = os.listdir('data/returnrate data')\n"
   ]
  },
  {
   "cell_type": "code",
   "execution_count": 84,
   "metadata": {
    "collapsed": true
   },
   "outputs": [
    {
     "data": {
      "text/plain": [
       "['SZ300033.xlsx',\n 'SZ000898.xlsx',\n 'SZ300072.xlsx',\n 'SH600019.xlsx',\n 'SZ002558.xlsx',\n 'SZ000709.xlsx',\n 'SH601018.xlsx',\n 'SH603160.xlsx',\n 'SZ002466.xlsx',\n 'SH600170.xlsx',\n 'SZ000725.xlsx',\n 'SH600977.xlsx',\n 'SZ002470.xlsx',\n 'SH600023.xlsx',\n 'SH600111.xlsx',\n 'SH600516.xlsx',\n 'SH600900.xlsx',\n 'SZ002450.xlsx',\n 'SH600795.xlsx',\n 'SH600015.xlsx',\n 'SZ002153.xlsx',\n 'SH600804.xlsx',\n 'SZ002411.xlsx',\n 'SH601628.xlsx',\n 'SZ002714.xlsx',\n 'SZ002352.xlsx',\n 'SH601669.xlsx',\n 'SZ000768.xlsx',\n 'SZ000338.xlsx',\n 'SH600886.xlsx',\n 'SH601901.xlsx',\n 'SZ002493.xlsx',\n 'SZ002304.xlsx',\n 'SH600887.xlsx',\n 'SZ000786.xlsx',\n 'SZ002241.xlsx',\n 'SH601111.xlsx',\n 'SH600583.xlsx',\n 'SH601238.xlsx',\n 'SH601668.xlsx',\n 'SH603993.xlsx',\n 'SH600346.xlsx',\n 'SZ000728.xlsx',\n 'SH600741.xlsx',\n 'SH600038.xlsx',\n 'SH600487.xlsx',\n 'SH600690.xlsx',\n 'SH601828.xlsx',\n 'SZ002555.xlsx',\n 'SZ000568.xlsx',\n 'SZ002739.xlsx',\n 'SH600297.xlsx',\n 'SZ002294.xlsx',\n 'SZ000895.xlsx',\n 'SZ002797.xlsx',\n 'SH600188.xlsx',\n 'SH601633.xlsx',\n 'SZ001965.xlsx',\n 'SH600999.xlsx',\n 'SH600219.xlsx',\n 'SH601808.xlsx',\n 'SH600809.xlsx',\n 'SZ300024.xlsx',\n 'SH600018.xlsx',\n 'SZ300136.xlsx',\n 'SH601166.xlsx',\n 'SH603858.xlsx',\n 'SZ000876.xlsx',\n 'SZ002236.xlsx',\n 'SH601998.xlsx',\n 'SH600547.xlsx',\n 'SZ002456.xlsx',\n 'SZ000938.xlsx',\n 'SH601881.xlsx',\n 'SH601878.xlsx',\n 'SZ000538.xlsx',\n 'SH601985.xlsx',\n 'SH601012.xlsx',\n 'SZ000001.xlsx',\n 'SH600068.xlsx',\n 'SH600438.xlsx',\n 'SH601229.xlsx',\n 'SZ300003.xlsx',\n 'SZ300015.xlsx',\n 'SH600029.xlsx',\n 'SZ000060.xlsx',\n 'SZ000963.xlsx',\n 'SH600398.xlsx',\n 'SZ000826.xlsx',\n 'SH600009.xlsx',\n 'SH601618.xlsx',\n 'SH601198.xlsx',\n 'SH603799.xlsx',\n 'SH601989.xlsx',\n 'SH600674.xlsx',\n 'SH600048.xlsx',\n 'SZ300408.xlsx',\n 'SZ002460.xlsx',\n 'SH601788.xlsx',\n 'SH600176.xlsx',\n 'SH600208.xlsx',\n 'SZ002572.xlsx',\n 'SZ000959.xlsx',\n 'SH601225.xlsx',\n 'SZ000723.xlsx',\n 'SH601360.xlsx',\n 'SZ000559.xlsx',\n 'SH600588.xlsx',\n 'SZ002925.xlsx',\n 'SH600926.xlsx',\n 'SH600025.xlsx',\n 'SZ000627.xlsx',\n 'SZ000333.xlsx',\n 'SH601009.xlsx',\n 'SZ002027.xlsx',\n 'SH601398.xlsx',\n 'SZ000671.xlsx',\n 'SH601727.xlsx',\n 'SH601377.xlsx',\n 'SH601818.xlsx',\n 'SH600570.xlsx',\n 'SH603833.xlsx',\n 'SZ000630.xlsx',\n 'SH601766.xlsx',\n 'SH601336.xlsx',\n 'SH600177.xlsx',\n 'SZ300059.xlsx',\n 'SH601988.xlsx',\n 'SZ002508.xlsx',\n 'SH600008.xlsx',\n 'SZ300433.xlsx',\n 'SZ002230.xlsx',\n 'SH600376.xlsx',\n 'SH600233.xlsx',\n 'SH600663.xlsx',\n 'SZ000503.xlsx',\n 'SH600028.xlsx',\n 'SH601117.xlsx',\n 'SH600585.xlsx',\n 'SZ002085.xlsx',\n 'SH600340.xlsx',\n 'SH601228.xlsx',\n 'SZ001979.xlsx',\n 'SZ002601.xlsx',\n 'SH600383.xlsx',\n 'SH600100.xlsx',\n 'SH600415.xlsx',\n 'SH600157.xlsx',\n 'SZ002007.xlsx',\n 'SZ002142.xlsx',\n 'SH601838.xlsx',\n 'SH601992.xlsx',\n 'SZ002050.xlsx',\n 'SZ000651.xlsx',\n 'SH601212.xlsx',\n 'SH601006.xlsx',\n 'SZ000783.xlsx',\n 'SH600705.xlsx',\n 'SZ300017.xlsx',\n 'SZ300144.xlsx',\n 'SH600085.xlsx',\n 'SH601155.xlsx',\n 'SZ002252.xlsx',\n 'SZ002602.xlsx',\n 'SH600482.xlsx',\n 'SZ002415.xlsx',\n 'SH601600.xlsx',\n 'SH600011.xlsx',\n 'SH601991.xlsx',\n 'SH601211.xlsx',\n 'SH600050.xlsx',\n 'SH600115.xlsx',\n 'SH600816.xlsx',\n 'SZ000625.xlsx',\n 'SH600498.xlsx',\n 'SZ002024.xlsx',\n 'SH600820.xlsx',\n 'SH600089.xlsx',\n 'SH600436.xlsx',\n 'SH600066.xlsx',\n 'SZ002065.xlsx',\n 'SZ000776.xlsx',\n 'SH600031.xlsx',\n 'SH601088.xlsx',\n 'SZ000166.xlsx',\n 'SH600271.xlsx',\n 'SH601899.xlsx',\n 'SH601933.xlsx',\n 'SH600637.xlsx',\n 'SZ002008.xlsx',\n 'SH600549.xlsx',\n 'SH600660.xlsx',\n 'SZ000961.xlsx',\n 'SZ000063.xlsx',\n 'SH600118.xlsx',\n 'SZ300124.xlsx',\n 'SH600909.xlsx',\n 'SH601898.xlsx',\n 'SH601877.xlsx',\n 'SH603260.xlsx',\n 'SH601318.xlsx',\n 'SZ000425.xlsx',\n 'SH600362.xlsx',\n 'SH600030.xlsx',\n 'SH600837.xlsx',\n 'SZ002475.xlsx',\n 'SH601288.xlsx',\n 'SZ000983.xlsx',\n 'SH600682.xlsx',\n 'SH601601.xlsx',\n 'SH600010.xlsx',\n 'SH600339.xlsx',\n 'SZ002044.xlsx',\n 'SH600196.xlsx',\n 'SH601857.xlsx',\n 'SZ000002.xlsx',\n 'SH601800.xlsx',\n 'SZ000540.xlsx',\n 'SH600704.xlsx',\n 'SZ000413.xlsx',\n 'SZ000623.xlsx',\n 'SH600867.xlsx',\n 'SH601688.xlsx',\n 'SH601958.xlsx',\n 'SH601108.xlsx',\n 'SZ002608.xlsx',\n 'SH601333.xlsx',\n 'SH600522.xlsx',\n 'SH601919.xlsx',\n 'SZ002736.xlsx',\n 'SH601718.xlsx',\n 'SZ002673.xlsx',\n 'SH600109.xlsx',\n 'SZ300027.xlsx',\n 'SZ002624.xlsx',\n 'SH603288.xlsx',\n 'SZ300070.xlsx',\n 'SH600332.xlsx',\n 'SH600518.xlsx',\n 'SH601866.xlsx',\n 'SH600959.xlsx',\n 'SH600373.xlsx',\n 'SH600703.xlsx',\n 'SZ000402.xlsx',\n 'SZ002468.xlsx',\n 'SH600369.xlsx',\n 'SH600739.xlsx',\n 'SZ002385.xlsx',\n 'SH601939.xlsx',\n 'SH601186.xlsx',\n 'SH601169.xlsx',\n 'SH600390.xlsx',\n 'SH601997.xlsx',\n 'SH600406.xlsx',\n 'SZ300251.xlsx',\n 'SH601216.xlsx',\n 'SZ000069.xlsx',\n 'SH601611.xlsx',\n 'SH600000.xlsx',\n 'SZ002146.xlsx',\n 'SH600016.xlsx',\n 'SH601607.xlsx',\n 'SH600153.xlsx',\n 'SZ002500.xlsx',\n 'SH600104.xlsx',\n 'SZ000839.xlsx',\n 'SZ000792.xlsx',\n 'SZ002310.xlsx',\n 'SH600893.xlsx',\n 'SH600606.xlsx',\n 'SZ002202.xlsx',\n 'SZ002594.xlsx',\n 'SH601555.xlsx',\n 'SZ002081.xlsx',\n 'SH601390.xlsx',\n 'SZ000415.xlsx',\n 'SH600352.xlsx',\n 'SZ000100.xlsx',\n 'SH601328.xlsx',\n 'SZ000157.xlsx',\n 'SH601099.xlsx',\n 'SH600372.xlsx',\n 'SH600688.xlsx',\n 'SH600958.xlsx',\n 'SH601021.xlsx',\n 'SZ300122.xlsx',\n 'SH601888.xlsx',\n 'SH600519.xlsx',\n 'SH600276.xlsx',\n 'SH600919.xlsx',\n 'SZ002625.xlsx',\n 'SH600221.xlsx',\n 'SZ000423.xlsx',\n 'SH600489.xlsx',\n 'SH600036.xlsx',\n 'SH600061.xlsx',\n 'SZ002074.xlsx',\n 'SH600309.xlsx',\n 'SZ000858.xlsx',\n 'SH600535.xlsx']"
      ]
     },
     "execution_count": 84,
     "metadata": {},
     "output_type": "execute_result"
    }
   ],
   "source": [
    "tikers"
   ]
  },
  {
   "cell_type": "code",
   "execution_count": 85,
   "metadata": {},
   "outputs": [],
   "source": [
    "finished = []\n",
    "unfinished = []"
   ]
  },
  {
   "cell_type": "code",
   "execution_count": 86,
   "metadata": {
    "collapsed": false
   },
   "outputs": [],
   "source": [
    "for i,ticker in enumerate(tickers):\n",
    "    try:\n",
    "        alpha_cal(ticker)\n",
    "        finished.append(ticker)\n",
    "    except:\n",
    "        unfinished.append(ticker)\n",
    "    \n",
    "    continue"
   ]
  },
  {
   "cell_type": "code",
   "execution_count": 88,
   "metadata": {
    "collapsed": true
   },
   "outputs": [
    {
     "data": {
      "text/plain": [
       "['SH600019.xlsx',\n 'SZ002558.xlsx',\n 'SZ000709.xlsx',\n 'SH601018.xlsx',\n 'SH600900.xlsx',\n 'SZ002411.xlsx',\n 'SH601669.xlsx',\n 'SH601901.xlsx',\n 'SZ000786.xlsx',\n 'SZ000728.xlsx',\n 'SZ002555.xlsx',\n 'SZ002739.xlsx',\n 'SZ000895.xlsx',\n 'SZ000876.xlsx',\n 'SZ000938.xlsx',\n 'SZ000538.xlsx',\n 'SH601989.xlsx',\n 'SZ000959.xlsx',\n 'SZ000723.xlsx',\n 'SH601360.xlsx',\n 'SZ000671.xlsx',\n 'SH601727.xlsx',\n 'SZ000630.xlsx',\n 'SZ000503.xlsx',\n 'SH600383.xlsx',\n 'SH600157.xlsx',\n 'SZ000651.xlsx',\n 'SZ000783.xlsx',\n 'SH600705.xlsx',\n 'SZ002252.xlsx',\n 'SZ002602.xlsx',\n 'SH600482.xlsx',\n 'SH601600.xlsx',\n 'SH600816.xlsx',\n 'SZ002065.xlsx',\n 'SZ000776.xlsx',\n 'SH600271.xlsx',\n 'SH600637.xlsx',\n 'SZ000961.xlsx',\n 'SH601877.xlsx',\n 'SH600682.xlsx',\n 'SH600339.xlsx',\n 'SZ002044.xlsx',\n 'SZ000002.xlsx',\n 'SZ000540.xlsx',\n 'SH600704.xlsx',\n 'SZ002608.xlsx',\n 'SH600109.xlsx',\n 'SZ002624.xlsx',\n 'SH600332.xlsx',\n 'SH600959.xlsx',\n 'SH600373.xlsx',\n 'SH600703.xlsx',\n 'SH600369.xlsx',\n 'SH601216.xlsx',\n 'SH601607.xlsx',\n 'SH600153.xlsx',\n 'SZ002500.xlsx',\n 'SZ000839.xlsx',\n 'SZ000792.xlsx',\n 'SZ002310.xlsx',\n 'SH600893.xlsx',\n 'SH600606.xlsx',\n 'SZ000415.xlsx',\n 'SZ000100.xlsx',\n 'SH600372.xlsx',\n 'SZ002625.xlsx',\n 'SH600221.xlsx',\n 'SZ000423.xlsx',\n 'SH600309.xlsx']"
      ]
     },
     "execution_count": 88,
     "metadata": {},
     "output_type": "execute_result"
    }
   ],
   "source": [
    "unfinished"
   ]
  },
  {
   "cell_type": "code",
   "execution_count": 89,
   "metadata": {
    "collapsed": true
   },
   "outputs": [
    {
     "data": {
      "text/plain": [
       "['SZ300033.xlsx',\n 'SZ000898.xlsx',\n 'SZ300072.xlsx',\n 'SH603160.xlsx',\n 'SZ002466.xlsx',\n 'SH600170.xlsx',\n 'SZ000725.xlsx',\n 'SH600977.xlsx',\n 'SZ002470.xlsx',\n 'SH600023.xlsx',\n 'SH600111.xlsx',\n 'SH600516.xlsx',\n 'SZ002450.xlsx',\n 'SH600795.xlsx',\n 'SH600015.xlsx',\n 'SZ002153.xlsx',\n 'SH600804.xlsx',\n 'SH601628.xlsx',\n 'SZ002714.xlsx',\n 'SZ002352.xlsx',\n 'SZ000768.xlsx',\n 'SZ000338.xlsx',\n 'SH600886.xlsx',\n 'SZ002493.xlsx',\n 'SZ002304.xlsx',\n 'SH600887.xlsx',\n 'SZ002241.xlsx',\n 'SH601111.xlsx',\n 'SH600583.xlsx',\n 'SH601238.xlsx',\n 'SH601668.xlsx',\n 'SH603993.xlsx',\n 'SH600346.xlsx',\n 'SH600741.xlsx',\n 'SH600038.xlsx',\n 'SH600487.xlsx',\n 'SH600690.xlsx',\n 'SH601828.xlsx',\n 'SZ000568.xlsx',\n 'SH600297.xlsx',\n 'SZ002294.xlsx',\n 'SZ002797.xlsx',\n 'SH600188.xlsx',\n 'SH601633.xlsx',\n 'SZ001965.xlsx',\n 'SH600999.xlsx',\n 'SH600219.xlsx',\n 'SH601808.xlsx',\n 'SH600809.xlsx',\n 'SZ300024.xlsx',\n 'SH600018.xlsx',\n 'SZ300136.xlsx',\n 'SH601166.xlsx',\n 'SH603858.xlsx',\n 'SZ002236.xlsx',\n 'SH601998.xlsx',\n 'SH600547.xlsx',\n 'SZ002456.xlsx',\n 'SH601881.xlsx',\n 'SH601878.xlsx',\n 'SH601985.xlsx',\n 'SH601012.xlsx',\n 'SZ000001.xlsx',\n 'SH600068.xlsx',\n 'SH600438.xlsx',\n 'SH601229.xlsx',\n 'SZ300003.xlsx',\n 'SZ300015.xlsx',\n 'SH600029.xlsx',\n 'SZ000060.xlsx',\n 'SZ000963.xlsx',\n 'SH600398.xlsx',\n 'SZ000826.xlsx',\n 'SH600009.xlsx',\n 'SH601618.xlsx',\n 'SH601198.xlsx',\n 'SH603799.xlsx',\n 'SH600674.xlsx',\n 'SH600048.xlsx',\n 'SZ300408.xlsx',\n 'SZ002460.xlsx',\n 'SH601788.xlsx',\n 'SH600176.xlsx',\n 'SH600208.xlsx',\n 'SZ002572.xlsx',\n 'SH601225.xlsx',\n 'SZ000559.xlsx',\n 'SH600588.xlsx',\n 'SZ002925.xlsx',\n 'SH600926.xlsx',\n 'SH600025.xlsx',\n 'SZ000627.xlsx',\n 'SZ000333.xlsx',\n 'SH601009.xlsx',\n 'SZ002027.xlsx',\n 'SH601398.xlsx',\n 'SH601377.xlsx',\n 'SH601818.xlsx',\n 'SH600570.xlsx',\n 'SH603833.xlsx',\n 'SH601766.xlsx',\n 'SH601336.xlsx',\n 'SH600177.xlsx',\n 'SZ300059.xlsx',\n 'SH601988.xlsx',\n 'SZ002508.xlsx',\n 'SH600008.xlsx',\n 'SZ300433.xlsx',\n 'SZ002230.xlsx',\n 'SH600376.xlsx',\n 'SH600233.xlsx',\n 'SH600663.xlsx',\n 'SH600028.xlsx',\n 'SH601117.xlsx',\n 'SH600585.xlsx',\n 'SZ002085.xlsx',\n 'SH600340.xlsx',\n 'SH601228.xlsx',\n 'SZ001979.xlsx',\n 'SZ002601.xlsx',\n 'SH600100.xlsx',\n 'SH600415.xlsx',\n 'SZ002007.xlsx',\n 'SZ002142.xlsx',\n 'SH601838.xlsx',\n 'SH601992.xlsx',\n 'SZ002050.xlsx',\n 'SH601212.xlsx',\n 'SH601006.xlsx',\n 'SZ300017.xlsx',\n 'SZ300144.xlsx',\n 'SH600085.xlsx',\n 'SH601155.xlsx',\n 'SZ002415.xlsx',\n 'SH600011.xlsx',\n 'SH601991.xlsx',\n 'SH601211.xlsx',\n 'SH600050.xlsx',\n 'SH600115.xlsx',\n 'SZ000625.xlsx',\n 'SH600498.xlsx',\n 'SZ002024.xlsx',\n 'SH600820.xlsx',\n 'SH600089.xlsx',\n 'SH600436.xlsx',\n 'SH600066.xlsx',\n 'SH600031.xlsx',\n 'SH601088.xlsx',\n 'SZ000166.xlsx',\n 'SH601899.xlsx',\n 'SH601933.xlsx',\n 'SZ002008.xlsx',\n 'SH600549.xlsx',\n 'SH600660.xlsx',\n 'SZ000063.xlsx',\n 'SH600118.xlsx',\n 'SZ300124.xlsx',\n 'SH600909.xlsx',\n 'SH601898.xlsx',\n 'SH603260.xlsx',\n 'SH601318.xlsx',\n 'SZ000425.xlsx',\n 'SH600362.xlsx',\n 'SH600030.xlsx',\n 'SH600837.xlsx',\n 'SZ002475.xlsx',\n 'SH601288.xlsx',\n 'SZ000983.xlsx',\n 'SH601601.xlsx',\n 'SH600010.xlsx',\n 'SH600196.xlsx',\n 'SH601857.xlsx',\n 'SH601800.xlsx',\n 'SZ000413.xlsx',\n 'SZ000623.xlsx',\n 'SH600867.xlsx',\n 'SH601688.xlsx',\n 'SH601958.xlsx',\n 'SH601108.xlsx',\n 'SH601333.xlsx',\n 'SH600522.xlsx',\n 'SH601919.xlsx',\n 'SZ002736.xlsx',\n 'SH601718.xlsx',\n 'SZ002673.xlsx',\n 'SZ300027.xlsx',\n 'SH603288.xlsx',\n 'SZ300070.xlsx',\n 'SH600518.xlsx',\n 'SH601866.xlsx',\n 'SZ000402.xlsx',\n 'SZ002468.xlsx',\n 'SH600739.xlsx',\n 'SZ002385.xlsx',\n 'SH601939.xlsx',\n 'SH601186.xlsx',\n 'SH601169.xlsx',\n 'SH600390.xlsx',\n 'SH601997.xlsx',\n 'SH600406.xlsx',\n 'SZ300251.xlsx',\n 'SZ000069.xlsx',\n 'SH601611.xlsx',\n 'SH600000.xlsx',\n 'SZ002146.xlsx',\n 'SH600016.xlsx',\n 'SH600104.xlsx',\n 'SZ002202.xlsx',\n 'SZ002594.xlsx',\n 'SH601555.xlsx',\n 'SZ002081.xlsx',\n 'SH601390.xlsx',\n 'SH600352.xlsx',\n 'SH601328.xlsx',\n 'SZ000157.xlsx',\n 'SH601099.xlsx',\n 'SH600688.xlsx',\n 'SH600958.xlsx',\n 'SH601021.xlsx',\n 'SZ300122.xlsx',\n 'SH601888.xlsx',\n 'SH600519.xlsx',\n 'SH600276.xlsx',\n 'SH600919.xlsx',\n 'SH600489.xlsx',\n 'SH600036.xlsx',\n 'SH600061.xlsx',\n 'SZ002074.xlsx',\n 'SZ000858.xlsx',\n 'SH600535.xlsx']"
      ]
     },
     "execution_count": 89,
     "metadata": {},
     "output_type": "execute_result"
    }
   ],
   "source": [
    "finished"
   ]
  },
  {
   "cell_type": "code",
   "execution_count": 90,
   "metadata": {
    "collapsed": true
   },
   "outputs": [
    {
     "data": {
      "text/plain": [
       "['SH600019.xlsx',\n 'SZ002558.xlsx',\n 'SZ000709.xlsx',\n 'SH601018.xlsx',\n 'SH600900.xlsx',\n 'SZ002411.xlsx',\n 'SH601669.xlsx',\n 'SH601901.xlsx',\n 'SZ000786.xlsx',\n 'SZ000728.xlsx',\n 'SZ002555.xlsx',\n 'SZ002739.xlsx',\n 'SZ000895.xlsx',\n 'SZ000876.xlsx',\n 'SZ000938.xlsx',\n 'SZ000538.xlsx',\n 'SH601989.xlsx',\n 'SZ000959.xlsx',\n 'SZ000723.xlsx',\n 'SH601360.xlsx',\n 'SZ000671.xlsx',\n 'SH601727.xlsx',\n 'SZ000630.xlsx',\n 'SZ000503.xlsx',\n 'SH600383.xlsx',\n 'SH600157.xlsx',\n 'SZ000651.xlsx',\n 'SZ000783.xlsx',\n 'SH600705.xlsx',\n 'SZ002252.xlsx',\n 'SZ002602.xlsx',\n 'SH600482.xlsx',\n 'SH601600.xlsx',\n 'SH600816.xlsx',\n 'SZ002065.xlsx',\n 'SZ000776.xlsx',\n 'SH600271.xlsx',\n 'SH600637.xlsx',\n 'SZ000961.xlsx',\n 'SH601877.xlsx',\n 'SH600682.xlsx',\n 'SH600339.xlsx',\n 'SZ002044.xlsx',\n 'SZ000002.xlsx',\n 'SZ000540.xlsx',\n 'SH600704.xlsx',\n 'SZ002608.xlsx',\n 'SH600109.xlsx',\n 'SZ002624.xlsx',\n 'SH600332.xlsx',\n 'SH600959.xlsx',\n 'SH600373.xlsx',\n 'SH600703.xlsx',\n 'SH600369.xlsx',\n 'SH601216.xlsx',\n 'SH601607.xlsx',\n 'SH600153.xlsx',\n 'SZ002500.xlsx',\n 'SZ000839.xlsx',\n 'SZ000792.xlsx',\n 'SZ002310.xlsx',\n 'SH600893.xlsx',\n 'SH600606.xlsx',\n 'SZ000415.xlsx',\n 'SZ000100.xlsx',\n 'SH600372.xlsx',\n 'SZ002625.xlsx',\n 'SH600221.xlsx',\n 'SZ000423.xlsx',\n 'SH600309.xlsx']"
      ]
     },
     "execution_count": 90,
     "metadata": {},
     "output_type": "execute_result"
    }
   ],
   "source": [
    "unfinished"
   ]
  },
  {
   "cell_type": "code",
   "execution_count": 91,
   "metadata": {},
   "outputs": [],
   "source": [
    "df_w = pd.read_excel('data/returnrate data/SH600019.xlsx',index_col=0)"
   ]
  },
  {
   "cell_type": "code",
   "execution_count": 92,
   "metadata": {},
   "outputs": [],
   "source": [
    "df_x = pd.read_excel('data/sh300returnrate.xlsx',\n",
    "                     index_col=0,header=0,names=['market'])\n",
    "    #df_x['market'] = df_x['market'].map(np.exp)\n",
    "    # print(df_x.head())\n",
    "df_y = pd.read_excel('data/returnrate data/SZ002558.xlsx',\n",
    "                     index_col=0,header=0,names=['company'])\n",
    "    #df_y['company'] = df_y['company'].map(np.exp)\n",
    "df = pd.concat([df_x,df_y],axis=1,join='outer',join_axes=[df_y.index])\n",
    "df = df.replace([np.inf,-np.inf],np.nan)\n",
    "df = df.dropna(axis=0)"
   ]
  },
  {
   "cell_type": "code",
   "execution_count": 93,
   "metadata": {
    "collapsed": true
   },
   "outputs": [],
   "source": [
    "dd = df.resample('Q').count()"
   ]
  },
  {
   "cell_type": "code",
   "execution_count": 94,
   "metadata": {},
   "outputs": [
    {
     "data": {
      "text/html": [
       "<div>\n",
       "<style>\n",
       "    .dataframe thead tr:only-child th {\n",
       "        text-align: right;\n",
       "    }\n",
       "\n",
       "    .dataframe thead th {\n",
       "        text-align: left;\n",
       "    }\n",
       "\n",
       "    .dataframe tbody tr th {\n",
       "        vertical-align: top;\n",
       "    }\n",
       "</style>\n",
       "<table border=\"1\" class=\"dataframe\">\n",
       "  <thead>\n",
       "    <tr style=\"text-align: right;\">\n",
       "      <th></th>\n",
       "      <th>market</th>\n",
       "      <th>company</th>\n",
       "    </tr>\n",
       "    <tr>\n",
       "      <th>Date</th>\n",
       "      <th></th>\n",
       "      <th></th>\n",
       "    </tr>\n",
       "  </thead>\n",
       "  <tbody>\n",
       "    <tr>\n",
       "      <th>2015-03-31</th>\n",
       "      <td>0</td>\n",
       "      <td>0</td>\n",
       "    </tr>\n",
       "    <tr>\n",
       "      <th>2015-06-30</th>\n",
       "      <td>0</td>\n",
       "      <td>0</td>\n",
       "    </tr>\n",
       "    <tr>\n",
       "      <th>2015-09-30</th>\n",
       "      <td>0</td>\n",
       "      <td>0</td>\n",
       "    </tr>\n",
       "  </tbody>\n",
       "</table>\n",
       "</div>"
      ],
      "text/plain": [
       "<div>\n",
       "<style>\n",
       "    .dataframe thead tr:only-child th {\n",
       "        text-align: right;\n",
       "    }\n",
       "\n",
       "    .dataframe thead th {\n",
       "        text-align: left;\n",
       "    }\n",
       "\n",
       "    .dataframe tbody tr th {\n",
       "        vertical-align: top;\n",
       "    }\n",
       "</style>\n",
       "<table border=\"1\" class=\"dataframe\">\n",
       "  <thead>\n",
       "    <tr style=\"text-align: right;\">\n",
       "      <th></th>\n",
       "      <th>market</th>\n",
       "      <th>company</th>\n",
       "    </tr>\n",
       "    <tr>\n",
       "      <th>Date</th>\n",
       "      <th></th>\n",
       "      <th></th>\n",
       "    </tr>\n",
       "  </thead>\n",
       "  <tbody>\n",
       "    <tr>\n",
       "      <th>2015-03-31</th>\n",
       "      <td>0</td>\n",
       "      <td>0</td>\n",
       "    </tr>\n",
       "    <tr>\n",
       "      <th>2015-06-30</th>\n",
       "      <td>0</td>\n",
       "      <td>0</td>\n",
       "    </tr>\n",
       "    <tr>\n",
       "      <th>2015-09-30</th>\n",
       "      <td>0</td>\n",
       "      <td>0</td>\n",
       "    </tr>\n",
       "  </tbody>\n",
       "</table>\n",
       "</div>"
      ]
     },
     "execution_count": 94,
     "metadata": {},
     "output_type": "execute_result"
    }
   ],
   "source": [
    "dd[dd['company']<2]"
   ]
  },
  {
   "cell_type": "code",
   "execution_count": null,
   "metadata": {},
   "outputs": [],
   "source": [
    "from statsmodels import regression\n",
    "import statsmodels.api as sm"
   ]
  },
  {
   "cell_type": "code",
   "execution_count": 48,
   "metadata": {},
   "outputs": [],
   "source": [
    "def regrd(x,y):\n",
    "    x = sm.add_constant(x)\n",
    "    model = regression.linear_model.OLS(x,y).fit()\n",
    "    return model.params[0]"
   ]
  },
  {
   "cell_type": "code",
   "execution_count": 57,
   "metadata": {},
   "outputs": [],
   "source": [
    "def alpha_cal_2(filename):\n",
    "    data_dir = 'data/returnrate data/'\n",
    "    file = data_dir + filename\n",
    "    # print(file)\n",
    "    df_x = pd.read_excel('data/sh300returnrate.xlsx',\n",
    "                     index_col=0,header=0,names=['market'])\n",
    "    #df_x['market'] = df_x['market'].map(np.exp)\n",
    "    # print(df_x.head())\n",
    "    df_y = pd.read_excel(file,\n",
    "                     index_col=0,header=0,names=['company'])\n",
    "    #df_y['company'] = df_y['company'].map(np.exp)\n",
    "    df = pd.concat([df_x,df_y],axis=1,join='outer',join_axes=[df_y.index])\n",
    "    df = df.replace([np.inf,-np.inf],np.nan)\n",
    "    df = df.dropna(axis=0)\n",
    "    \n",
    "    # print(df.head())\n",
    "    \n",
    "    df_cal = df.resample('Q').apply(lambda x:regrd(x['market'],x['company']))\n",
    "    \n",
    "    df_alpha = df_cal.rename(columns={'company':'alpha'})\n",
    "    \n",
    "    \n",
    "    #save_dir = 'data/alpha/'\n",
    "    #df_alpha.to_excel('data/alpha2/{}'.format(filename))\n",
    "    return df_alpha"
   ]
  },
  {
   "cell_type": "code",
   "execution_count": null,
   "metadata": {},
   "outputs": [],
   "source": []
  }
 ],
 "metadata": {
  "kernelspec": {
   "display_name": "Python 2",
   "language": "python",
   "name": "python2"
  },
  "language_info": {
   "codemirror_mode": {
    "name": "ipython",
    "version": 2
   },
   "file_extension": ".py",
   "mimetype": "text/x-python",
   "name": "python",
   "nbconvert_exporter": "python",
   "pygments_lexer": "ipython2",
   "version": "2.7.6"
  }
 },
 "nbformat": 4,
 "nbformat_minor": 0
}
